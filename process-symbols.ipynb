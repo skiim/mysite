{
 "cells": [
  {
   "cell_type": "code",
   "execution_count": 2,
   "metadata": {},
   "outputs": [],
   "source": [
    "import os\n",
    "import pandas as pd\n",
    "import requests as api\n",
    "import json"
   ]
  },
  {
   "cell_type": "code",
   "execution_count": 42,
   "metadata": {},
   "outputs": [],
   "source": [
    "params = {'token':'bqet79frh5rashj92nv0'}\n",
    "req = api.get ('https://finnhub.io/api/v1/stock/exchange', params=params)\n",
    "exchanges = [i ['code'] for i in req.json()]"
   ]
  },
  {
   "cell_type": "code",
   "execution_count": 73,
   "metadata": {},
   "outputs": [],
   "source": [
    "exchangeChoice = ['US', 'TO', 'V', 'T', 'CN', 'KQ', 'L']"
   ]
  },
  {
   "cell_type": "code",
   "execution_count": 74,
   "metadata": {},
   "outputs": [],
   "source": [
    "symbols = []"
   ]
  },
  {
   "cell_type": "code",
   "execution_count": 75,
   "metadata": {},
   "outputs": [],
   "source": [
    "for ex in exchangeChoice:\n",
    "    params = {'token':'bqet79frh5rashj92nv0', 'exchange': ex}\n",
    "    req = api.get ('https://finnhub.io/api/v1/stock/symbol', params=params)\n",
    "    symbols.extend (req.json())"
   ]
  },
  {
   "cell_type": "code",
   "execution_count": 76,
   "metadata": {},
   "outputs": [
    {
     "output_type": "execute_result",
     "data": {
      "text/plain": "24615"
     },
     "metadata": {},
     "execution_count": 76
    }
   ],
   "source": [
    "len (symbols)"
   ]
  },
  {
   "cell_type": "code",
   "execution_count": 77,
   "metadata": {},
   "outputs": [],
   "source": [
    "with open ('assets/symbols.json', 'w') as f:\n",
    "    json.dump ({'symbols': symbols}, f)"
   ]
  },
  {
   "cell_type": "code",
   "execution_count": 84,
   "metadata": {},
   "outputs": [
    {
     "output_type": "stream",
     "name": "stdout",
     "text": "24615\n"
    }
   ],
   "source": [
    "tickers = [i ['symbol'] for i in symbols]\n",
    "print (len (tickers))"
   ]
  },
  {
   "cell_type": "code",
   "execution_count": 88,
   "metadata": {
    "tags": [
     "outputPrepend"
    ]
   },
   "outputs": [
    {
     "output_type": "stream",
     "name": "stdout",
     "text": "24390\n"
    }
   ],
   "source": [
    "l = tickers\n",
    "for ticker in symbols:\n",
    "    tick = ticker['symbol']\n",
    "    if \"-\" in ticker['symbol']:\n",
    "        dupTick = tick.replace ('-', '.') \n",
    "        if dupTick in tickers:\n",
    "            tickers.remove (dupTick)\n",
    "\n",
    "print (len (tickers))"
   ]
  }
 ],
 "metadata": {
  "language_info": {
   "codemirror_mode": {
    "name": "ipython",
    "version": 3
   },
   "file_extension": ".py",
   "mimetype": "text/x-python",
   "name": "python",
   "nbconvert_exporter": "python",
   "pygments_lexer": "ipython3",
   "version": "3.6.8-final"
  },
  "orig_nbformat": 2,
  "kernelspec": {
   "name": "python3",
   "display_name": "Python 3"
  }
 },
 "nbformat": 4,
 "nbformat_minor": 2
}